{
 "cells": [
  {
   "cell_type": "markdown",
   "id": "27d0bc9d",
   "metadata": {},
   "source": [
    "## `Write a Python program to create a lambda function that adds 25 to a given number passed in as an argument.`"
   ]
  },
  {
   "cell_type": "code",
   "execution_count": 2,
   "id": "f83b2640",
   "metadata": {},
   "outputs": [
    {
     "name": "stdout",
     "output_type": "stream",
     "text": [
      "Enter the number : 10\n",
      "35\n"
     ]
    }
   ],
   "source": [
    "x=int(input(\"Enter the number : \")) \n",
    "lam = lambda a : a + 25\n",
    "print(lam(x))\n"
   ]
  },
  {
   "cell_type": "markdown",
   "id": "fea16bfd",
   "metadata": {},
   "source": [
    "## `Write a Python program to triple all numbers of a given list of integers. Use Python map.`"
   ]
  },
  {
   "cell_type": "code",
   "execution_count": 6,
   "id": "4307a0f8",
   "metadata": {},
   "outputs": [
    {
     "name": "stdout",
     "output_type": "stream",
     "text": [
      "Enter number of elements : 2\n",
      "1\n",
      "2\n",
      "Original list:  [1, 2]\n",
      "\n",
      "Triple of list numbers:\n",
      "[3, 6]\n"
     ]
    }
   ],
   "source": [
    "lst = []\n",
    "n = int(input(\"Enter number of elements : \"))\n",
    "for i in range(0, n):\n",
    "    element = int(input())\n",
    "    lst.append(element) \n",
    "print(\"Original list: \", lst)\n",
    "result = map(lambda x: x + x + x, lst) \n",
    "print(\"\\nTriple of list numbers:\")\n",
    "print(list(result))"
   ]
  },
  {
   "cell_type": "markdown",
   "id": "039832d6",
   "metadata": {},
   "source": [
    "## `Write a Python program to square the elements of a list using map() function.`"
   ]
  },
  {
   "cell_type": "code",
   "execution_count": 7,
   "id": "7374c18f",
   "metadata": {},
   "outputs": [
    {
     "name": "stdout",
     "output_type": "stream",
     "text": [
      "Enter number of elements : 4\n",
      "1\n",
      "2\n",
      "3\n",
      "4\n",
      "Original List:  [1, 2, 3, 4]\n",
      "Square the elements of the said list using map():\n",
      "[1, 4, 9, 16]\n"
     ]
    }
   ],
   "source": [
    "lst = []\n",
    "n = int(input(\"Enter number of elements : \"))\n",
    "for i in range(0, n):\n",
    "    element = int(input())\n",
    "    lst.append(element) \n",
    "def square_num(x):\n",
    "  return x * x\n",
    "print(\"Original List: \",lst)\n",
    "result = map(square_num, lst)\n",
    "print(\"Square the elements of the said list using map():\")\n",
    "print(list(result))"
   ]
  },
  {
   "cell_type": "code",
   "execution_count": null,
   "id": "3f42b65a",
   "metadata": {},
   "outputs": [],
   "source": []
  }
 ],
 "metadata": {
  "kernelspec": {
   "display_name": "Python 3 (ipykernel)",
   "language": "python",
   "name": "python3"
  },
  "language_info": {
   "codemirror_mode": {
    "name": "ipython",
    "version": 3
   },
   "file_extension": ".py",
   "mimetype": "text/x-python",
   "name": "python",
   "nbconvert_exporter": "python",
   "pygments_lexer": "ipython3",
   "version": "3.10.0"
  }
 },
 "nbformat": 4,
 "nbformat_minor": 5
}
